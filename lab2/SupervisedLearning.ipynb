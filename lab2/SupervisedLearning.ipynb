{
    "metadata": {
        "kernelspec": {
            "name": "python3",
            "display_name": "Python 3 (ipykernel)",
            "language": "python"
        }
    },
    "nbformat": 4,
    "nbformat_minor": 2,
    "cells": [
        {
            "attachments": {},
            "cell_type": "markdown",
            "metadata": {},
            "source": [
                "This code is an introduction to supervised learning solving a classification problem using **decision trees**.\n",
                "It follows [this tutorial](https://youtu.be/7eh4d6sabA0). "
            ]
        },
        {
            "attachments": {},
            "cell_type": "markdown",
            "metadata": {},
            "source": [
                "# **Classification Problem**\n",
                "We will follow these steps of solving a machine learning problem.\n",
                "\n",
                "\n",
                "1. Import the Data\n",
                "2. Clean the Data\n",
                "3. split the Data into Training/ Test steps\n",
                "4. Create a Model\n",
                "5. Train the Model\n",
                "6. Make Predictions\n",
                "7. Evaluate and improve\n",
                ""
            ]
        },
        {
            "attachments": {},
            "cell_type": "markdown",
            "metadata": {},
            "source": [
                "# Problem description\n",
                "Enter in the text cell below what you will be predicting in this classification problem (y) and which columns will be used in the prediction (X)"
            ]
        },
        {
            "attachments": {},
            "cell_type": "markdown",
            "metadata": {},
            "source": [
                ""
            ]
        },
        {
            "cell_type": "code",
            "execution_count": 1,
            "metadata": {},
            "outputs": [],
            "source": [
                "import pandas as pd\n",
                "from sklearn.tree import DecisionTreeClassifier\n",
                "from sklearn.model_selection import train_test_split\n",
                "from sklearn.metrics import accuracy_score\n",
                "import joblib\n",
                "from sklearn import tree"
            ]
        },
        {
            "attachments": {},
            "cell_type": "markdown",
            "metadata": {},
            "source": [
                "1. Import the Data."
            ]
        },
        {
            "cell_type": "code",
            "execution_count": 2,
            "metadata": {},
            "outputs": [],
            "source": [
                "df = pd.read_csv('originalfile.csv')\n",
                "df= df.drop(['Overall_rank','Country_or_region', 'Region_Number'], axis = 1)\n",
                "#Convert float score to category for classification\n",
                "bins = [2.0, 3.0, 5.0, 6.0, 7.0, 10.0]    \n",
                "labels = [\"Unhappiest\", \"Unhappy\", \"Neutral\", \"Happy\", \"Happiest\"]    \n",
                "df['Score'] = pd.cut(df.Score, bins=bins, labels=labels)\n",
                "df['Score'] = df.Score.cat.codes"
            ]
        },
        {
            "attachments": {},
            "cell_type": "markdown",
            "metadata": {},
            "source": [
                "2. Display columns and describe the data set"
            ]
        },
        {
            "cell_type": "code",
            "execution_count": 3,
            "metadata": {},
            "outputs": [
                {
                    "name": "stdout",
                    "output_type": "stream",
                    "text": "\u003cclass 'pandas.core.frame.DataFrame'\u003e\nRangeIndex: 156 entries, 0 to 155\nData columns (total 7 columns):\n #   Column                        Non-Null Count  Dtype  \n---  ------                        --------------  -----  \n 0   Score                         156 non-null    int8   \n 1   GDP_per_capita                156 non-null    float64\n 2   Social_support                156 non-null    float64\n 3   Healthy_life_expectancy       156 non-null    float64\n 4   Freedom_to_make_life_choices  156 non-null    float64\n 5   Generosity                    156 non-null    float64\n 6   Perceptions_of_corruption     156 non-null    float64\ndtypes: float64(6), int8(1)\nmemory usage: 7.6 KB\n"
                }
            ],
            "source": [
                "df.info()"
            ]
        },
        {
            "cell_type": "code",
            "execution_count": 4,
            "metadata": {},
            "outputs": [
                {
                    "data": {
                        "text/html": "\u003cdiv\u003e\n\u003cstyle scoped\u003e\n    .dataframe tbody tr th:only-of-type {\n        vertical-align: middle;\n    }\n\n    .dataframe tbody tr th {\n        vertical-align: top;\n    }\n\n    .dataframe thead th {\n        text-align: right;\n    }\n\u003c/style\u003e\n\u003ctable border=\"1\" class=\"dataframe\"\u003e\n  \u003cthead\u003e\n    \u003ctr style=\"text-align: right;\"\u003e\n      \u003cth\u003e\u003c/th\u003e\n      \u003cth\u003eScore\u003c/th\u003e\n      \u003cth\u003eGDP_per_capita\u003c/th\u003e\n      \u003cth\u003eSocial_support\u003c/th\u003e\n      \u003cth\u003eHealthy_life_expectancy\u003c/th\u003e\n      \u003cth\u003eFreedom_to_make_life_choices\u003c/th\u003e\n      \u003cth\u003eGenerosity\u003c/th\u003e\n      \u003cth\u003ePerceptions_of_corruption\u003c/th\u003e\n    \u003c/tr\u003e\n  \u003c/thead\u003e\n  \u003ctbody\u003e\n    \u003ctr\u003e\n      \u003cth\u003ecount\u003c/th\u003e\n      \u003ctd\u003e156.000000\u003c/td\u003e\n      \u003ctd\u003e156.000000\u003c/td\u003e\n      \u003ctd\u003e156.000000\u003c/td\u003e\n      \u003ctd\u003e156.000000\u003c/td\u003e\n      \u003ctd\u003e156.000000\u003c/td\u003e\n      \u003ctd\u003e156.000000\u003c/td\u003e\n      \u003ctd\u003e156.000000\u003c/td\u003e\n    \u003c/tr\u003e\n    \u003ctr\u003e\n      \u003cth\u003emean\u003c/th\u003e\n      \u003ctd\u003e2.051282\u003c/td\u003e\n      \u003ctd\u003e0.905147\u003c/td\u003e\n      \u003ctd\u003e1.208814\u003c/td\u003e\n      \u003ctd\u003e0.725244\u003c/td\u003e\n      \u003ctd\u003e0.392571\u003c/td\u003e\n      \u003ctd\u003e0.184846\u003c/td\u003e\n      \u003ctd\u003e0.110603\u003c/td\u003e\n    \u003c/tr\u003e\n    \u003ctr\u003e\n      \u003cth\u003estd\u003c/th\u003e\n      \u003ctd\u003e1.021036\u003c/td\u003e\n      \u003ctd\u003e0.398389\u003c/td\u003e\n      \u003ctd\u003e0.299191\u003c/td\u003e\n      \u003ctd\u003e0.242124\u003c/td\u003e\n      \u003ctd\u003e0.143289\u003c/td\u003e\n      \u003ctd\u003e0.095254\u003c/td\u003e\n      \u003ctd\u003e0.094538\u003c/td\u003e\n    \u003c/tr\u003e\n    \u003ctr\u003e\n      \u003cth\u003emin\u003c/th\u003e\n      \u003ctd\u003e0.000000\u003c/td\u003e\n      \u003ctd\u003e0.000000\u003c/td\u003e\n      \u003ctd\u003e0.000000\u003c/td\u003e\n      \u003ctd\u003e0.000000\u003c/td\u003e\n      \u003ctd\u003e0.000000\u003c/td\u003e\n      \u003ctd\u003e0.000000\u003c/td\u003e\n      \u003ctd\u003e0.000000\u003c/td\u003e\n    \u003c/tr\u003e\n    \u003ctr\u003e\n      \u003cth\u003e25%\u003c/th\u003e\n      \u003ctd\u003e1.000000\u003c/td\u003e\n      \u003ctd\u003e0.602750\u003c/td\u003e\n      \u003ctd\u003e1.055750\u003c/td\u003e\n      \u003ctd\u003e0.547750\u003c/td\u003e\n      \u003ctd\u003e0.308000\u003c/td\u003e\n      \u003ctd\u003e0.108750\u003c/td\u003e\n      \u003ctd\u003e0.047000\u003c/td\u003e\n    \u003c/tr\u003e\n    \u003ctr\u003e\n      \u003cth\u003e50%\u003c/th\u003e\n      \u003ctd\u003e2.000000\u003c/td\u003e\n      \u003ctd\u003e0.960000\u003c/td\u003e\n      \u003ctd\u003e1.271500\u003c/td\u003e\n      \u003ctd\u003e0.789000\u003c/td\u003e\n      \u003ctd\u003e0.417000\u003c/td\u003e\n      \u003ctd\u003e0.177500\u003c/td\u003e\n      \u003ctd\u003e0.085500\u003c/td\u003e\n    \u003c/tr\u003e\n    \u003ctr\u003e\n      \u003cth\u003e75%\u003c/th\u003e\n      \u003ctd\u003e3.000000\u003c/td\u003e\n      \u003ctd\u003e1.232500\u003c/td\u003e\n      \u003ctd\u003e1.452500\u003c/td\u003e\n      \u003ctd\u003e0.881750\u003c/td\u003e\n      \u003ctd\u003e0.507250\u003c/td\u003e\n      \u003ctd\u003e0.248250\u003c/td\u003e\n      \u003ctd\u003e0.141250\u003c/td\u003e\n    \u003c/tr\u003e\n    \u003ctr\u003e\n      \u003cth\u003emax\u003c/th\u003e\n      \u003ctd\u003e4.000000\u003c/td\u003e\n      \u003ctd\u003e1.684000\u003c/td\u003e\n      \u003ctd\u003e1.624000\u003c/td\u003e\n      \u003ctd\u003e1.141000\u003c/td\u003e\n      \u003ctd\u003e0.631000\u003c/td\u003e\n      \u003ctd\u003e0.566000\u003c/td\u003e\n      \u003ctd\u003e0.453000\u003c/td\u003e\n    \u003c/tr\u003e\n  \u003c/tbody\u003e\n\u003c/table\u003e\n\u003c/div\u003e",
                        "text/plain": "            Score  GDP_per_capita  Social_support  Healthy_life_expectancy  \\\ncount  156.000000      156.000000      156.000000               156.000000   \nmean     2.051282        0.905147        1.208814                 0.725244   \nstd      1.021036        0.398389        0.299191                 0.242124   \nmin      0.000000        0.000000        0.000000                 0.000000   \n25%      1.000000        0.602750        1.055750                 0.547750   \n50%      2.000000        0.960000        1.271500                 0.789000   \n75%      3.000000        1.232500        1.452500                 0.881750   \nmax      4.000000        1.684000        1.624000                 1.141000   \n\n       Freedom_to_make_life_choices  Generosity  Perceptions_of_corruption  \ncount                    156.000000  156.000000                 156.000000  \nmean                       0.392571    0.184846                   0.110603  \nstd                        0.143289    0.095254                   0.094538  \nmin                        0.000000    0.000000                   0.000000  \n25%                        0.308000    0.108750                   0.047000  \n50%                        0.417000    0.177500                   0.085500  \n75%                        0.507250    0.248250                   0.141250  \nmax                        0.631000    0.566000                   0.453000  "
                    },
                    "execution_count": 4,
                    "metadata": {},
                    "output_type": "execute_result"
                }
            ],
            "source": [
                "df.describe()"
            ]
        },
        {
            "attachments": {},
            "cell_type": "markdown",
            "metadata": {},
            "source": [
                "3. Prepare Data"
            ]
        },
        {
            "cell_type": "code",
            "execution_count": 5,
            "metadata": {},
            "outputs": [
                {
                    "data": {
                        "text/html": "\u003cdiv\u003e\n\u003cstyle scoped\u003e\n    .dataframe tbody tr th:only-of-type {\n        vertical-align: middle;\n    }\n\n    .dataframe tbody tr th {\n        vertical-align: top;\n    }\n\n    .dataframe thead th {\n        text-align: right;\n    }\n\u003c/style\u003e\n\u003ctable border=\"1\" class=\"dataframe\"\u003e\n  \u003cthead\u003e\n    \u003ctr style=\"text-align: right;\"\u003e\n      \u003cth\u003e\u003c/th\u003e\n      \u003cth\u003eGDP_per_capita\u003c/th\u003e\n      \u003cth\u003eSocial_support\u003c/th\u003e\n      \u003cth\u003eHealthy_life_expectancy\u003c/th\u003e\n      \u003cth\u003eFreedom_to_make_life_choices\u003c/th\u003e\n      \u003cth\u003eGenerosity\u003c/th\u003e\n      \u003cth\u003ePerceptions_of_corruption\u003c/th\u003e\n    \u003c/tr\u003e\n  \u003c/thead\u003e\n  \u003ctbody\u003e\n    \u003ctr\u003e\n      \u003cth\u003e0\u003c/th\u003e\n      \u003ctd\u003e0.350\u003c/td\u003e\n      \u003ctd\u003e0.517\u003c/td\u003e\n      \u003ctd\u003e0.361\u003c/td\u003e\n      \u003ctd\u003e0.000\u003c/td\u003e\n      \u003ctd\u003e0.158\u003c/td\u003e\n      \u003ctd\u003e0.025\u003c/td\u003e\n    \u003c/tr\u003e\n    \u003ctr\u003e\n      \u003cth\u003e1\u003c/th\u003e\n      \u003ctd\u003e0.947\u003c/td\u003e\n      \u003ctd\u003e0.848\u003c/td\u003e\n      \u003ctd\u003e0.874\u003c/td\u003e\n      \u003ctd\u003e0.383\u003c/td\u003e\n      \u003ctd\u003e0.178\u003c/td\u003e\n      \u003ctd\u003e0.027\u003c/td\u003e\n    \u003c/tr\u003e\n    \u003ctr\u003e\n      \u003cth\u003e2\u003c/th\u003e\n      \u003ctd\u003e1.002\u003c/td\u003e\n      \u003ctd\u003e1.160\u003c/td\u003e\n      \u003ctd\u003e0.785\u003c/td\u003e\n      \u003ctd\u003e0.086\u003c/td\u003e\n      \u003ctd\u003e0.073\u003c/td\u003e\n      \u003ctd\u003e0.114\u003c/td\u003e\n    \u003c/tr\u003e\n    \u003ctr\u003e\n      \u003cth\u003e3\u003c/th\u003e\n      \u003ctd\u003e1.092\u003c/td\u003e\n      \u003ctd\u003e1.432\u003c/td\u003e\n      \u003ctd\u003e0.881\u003c/td\u003e\n      \u003ctd\u003e0.471\u003c/td\u003e\n      \u003ctd\u003e0.066\u003c/td\u003e\n      \u003ctd\u003e0.050\u003c/td\u003e\n    \u003c/tr\u003e\n    \u003ctr\u003e\n      \u003cth\u003e4\u003c/th\u003e\n      \u003ctd\u003e0.850\u003c/td\u003e\n      \u003ctd\u003e1.055\u003c/td\u003e\n      \u003ctd\u003e0.815\u003c/td\u003e\n      \u003ctd\u003e0.283\u003c/td\u003e\n      \u003ctd\u003e0.095\u003c/td\u003e\n      \u003ctd\u003e0.064\u003c/td\u003e\n    \u003c/tr\u003e\n    \u003ctr\u003e\n      \u003cth\u003e...\u003c/th\u003e\n      \u003ctd\u003e...\u003c/td\u003e\n      \u003ctd\u003e...\u003c/td\u003e\n      \u003ctd\u003e...\u003c/td\u003e\n      \u003ctd\u003e...\u003c/td\u003e\n      \u003ctd\u003e...\u003c/td\u003e\n      \u003ctd\u003e...\u003c/td\u003e\n    \u003c/tr\u003e\n    \u003ctr\u003e\n      \u003cth\u003e151\u003c/th\u003e\n      \u003ctd\u003e0.960\u003c/td\u003e\n      \u003ctd\u003e1.427\u003c/td\u003e\n      \u003ctd\u003e0.805\u003c/td\u003e\n      \u003ctd\u003e0.154\u003c/td\u003e\n      \u003ctd\u003e0.064\u003c/td\u003e\n      \u003ctd\u003e0.047\u003c/td\u003e\n    \u003c/tr\u003e\n    \u003ctr\u003e\n      \u003cth\u003e152\u003c/th\u003e\n      \u003ctd\u003e0.741\u003c/td\u003e\n      \u003ctd\u003e1.346\u003c/td\u003e\n      \u003ctd\u003e0.851\u003c/td\u003e\n      \u003ctd\u003e0.543\u003c/td\u003e\n      \u003ctd\u003e0.147\u003c/td\u003e\n      \u003ctd\u003e0.073\u003c/td\u003e\n    \u003c/tr\u003e\n    \u003ctr\u003e\n      \u003cth\u003e153\u003c/th\u003e\n      \u003ctd\u003e0.287\u003c/td\u003e\n      \u003ctd\u003e1.163\u003c/td\u003e\n      \u003ctd\u003e0.463\u003c/td\u003e\n      \u003ctd\u003e0.143\u003c/td\u003e\n      \u003ctd\u003e0.108\u003c/td\u003e\n      \u003ctd\u003e0.077\u003c/td\u003e\n    \u003c/tr\u003e\n    \u003ctr\u003e\n      \u003cth\u003e154\u003c/th\u003e\n      \u003ctd\u003e0.578\u003c/td\u003e\n      \u003ctd\u003e1.058\u003c/td\u003e\n      \u003ctd\u003e0.426\u003c/td\u003e\n      \u003ctd\u003e0.431\u003c/td\u003e\n      \u003ctd\u003e0.247\u003c/td\u003e\n      \u003ctd\u003e0.087\u003c/td\u003e\n    \u003c/tr\u003e\n    \u003ctr\u003e\n      \u003cth\u003e155\u003c/th\u003e\n      \u003ctd\u003e0.366\u003c/td\u003e\n      \u003ctd\u003e1.114\u003c/td\u003e\n      \u003ctd\u003e0.433\u003c/td\u003e\n      \u003ctd\u003e0.361\u003c/td\u003e\n      \u003ctd\u003e0.151\u003c/td\u003e\n      \u003ctd\u003e0.089\u003c/td\u003e\n    \u003c/tr\u003e\n  \u003c/tbody\u003e\n\u003c/table\u003e\n\u003cp\u003e156 rows × 6 columns\u003c/p\u003e\n\u003c/div\u003e",
                        "text/plain": "     GDP_per_capita  Social_support  Healthy_life_expectancy  \\\n0             0.350           0.517                    0.361   \n1             0.947           0.848                    0.874   \n2             1.002           1.160                    0.785   \n3             1.092           1.432                    0.881   \n4             0.850           1.055                    0.815   \n..              ...             ...                      ...   \n151           0.960           1.427                    0.805   \n152           0.741           1.346                    0.851   \n153           0.287           1.163                    0.463   \n154           0.578           1.058                    0.426   \n155           0.366           1.114                    0.433   \n\n     Freedom_to_make_life_choices  Generosity  Perceptions_of_corruption  \n0                           0.000       0.158                      0.025  \n1                           0.383       0.178                      0.027  \n2                           0.086       0.073                      0.114  \n3                           0.471       0.066                      0.050  \n4                           0.283       0.095                      0.064  \n..                            ...         ...                        ...  \n151                         0.154       0.064                      0.047  \n152                         0.543       0.147                      0.073  \n153                         0.143       0.108                      0.077  \n154                         0.431       0.247                      0.087  \n155                         0.361       0.151                      0.089  \n\n[156 rows x 6 columns]"
                    },
                    "execution_count": 5,
                    "metadata": {},
                    "output_type": "execute_result"
                }
            ],
            "source": [
                "# Run this section to inspect X\n",
                "X = df.drop(columns = ['Score'])\n",
                "X"
            ]
        },
        {
            "cell_type": "code",
            "execution_count": 6,
            "metadata": {},
            "outputs": [
                {
                    "data": {
                        "text/plain": "0      1\n1      1\n2      2\n3      3\n4      1\n      ..\n151    1\n152    2\n153    1\n154    1\n155    1\nName: Score, Length: 156, dtype: int8"
                    },
                    "execution_count": 6,
                    "metadata": {},
                    "output_type": "execute_result"
                }
            ],
            "source": [
                "# Uncomment this section to inpect y\n",
                "y = df['Score']\n",
                "y"
            ]
        },
        {
            "attachments": {},
            "cell_type": "markdown",
            "metadata": {},
            "source": [
                "4. Calculate accuracy"
            ]
        },
        {
            "cell_type": "code",
            "execution_count": 13,
            "metadata": {},
            "outputs": [
                {
                    "data": {
                        "text/plain": "0.6875"
                    },
                    "execution_count": 13,
                    "metadata": {},
                    "output_type": "execute_result"
                }
            ],
            "source": [
                "# Train 80% of the data set and use the rest to test\n",
                "X_train, X_test, y_train, y_test = train_test_split(\n",
                "                                    X, y, test_size=0.2)\n",
                "\n",
                "model = DecisionTreeClassifier()\n",
                "model.fit(X_train, y_train)\n",
                "predictions = model.predict(X_test)\n",
                "\n",
                "# Compute model accuracy\n",
                "score = accuracy_score(y_test, predictions)\n",
                "score"
            ]
        },
        {
            "attachments": {},
            "cell_type": "markdown",
            "metadata": {},
            "source": [
                "5. Persisting Models"
            ]
        },
        {
            "cell_type": "code",
            "execution_count": 14,
            "metadata": {},
            "outputs": [
                {
                    "data": {
                        "text/plain": "['2019HapinessIndex.joblib']"
                    },
                    "execution_count": 14,
                    "metadata": {},
                    "output_type": "execute_result"
                }
            ],
            "source": [
                "# Save the model to file\n",
                "joblib.dump(model, '2019HapinessIndex.joblib')\n",
                ""
            ]
        },
        {
            "attachments": {},
            "cell_type": "markdown",
            "metadata": {},
            "source": [
                "5.b. Import the model and make predictions"
            ]
        },
        {
            "cell_type": "code",
            "execution_count": 15,
            "metadata": {},
            "outputs": [
                {
                    "data": {
                        "text/plain": "array([2, 3, 1, 1, 3, 4, 3, 1, 3, 3, 1, 1, 2, 2, 2, 2, 1, 0, 4, 3, 1, 1,\n       1, 3, 3, 1, 1, 1, 2, 4, 3, 3], dtype=int8)"
                    },
                    "execution_count": 15,
                    "metadata": {},
                    "output_type": "execute_result"
                }
            ],
            "source": [
                "# Load saved model. Make sure that you have run the previous\n",
                "# section at least once, and that the file exists.\n",
                "\n",
                "model = joblib.load('2019HapinessIndex.joblib')\n",
                "predictions = model.predict(X_test)\n",
                "predictions"
            ]
        },
        {
            "attachments": {},
            "cell_type": "markdown",
            "metadata": {},
            "source": [
                "6. (Optional) Visualize decision trees"
            ]
        },
        {
            "cell_type": "code",
            "execution_count": 16,
            "metadata": {},
            "outputs": [],
            "source": [
                "tree.export_graphviz(model, out_file = '2019HapinessIndex.dot',\n",
                "                    feature_names = X.columns, \n",
                "                    class_names = str(sorted(y.unique())), \n",
                "                    label = 'all',\n",
                "                    rounded = True, \n",
                "                    filled = True)\n",
                "\n",
                "#Download the file music-recommender.dot and open it in VS Code.\n",
                ""
            ]
        }
    ]
}
